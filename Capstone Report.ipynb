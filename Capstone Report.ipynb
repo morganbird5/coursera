{
 "cells": [
  {
   "cell_type": "markdown",
   "metadata": {},
   "source": [
    "# Capstone Project: Battle of the Neighborhood Shopping Centers"
   ]
  },
  {
   "cell_type": "markdown",
   "metadata": {},
   "source": [
    "##### Introduction and Business Problem\n",
    "\n",
    "After living in Charlotte, NC, for 4 months, I quickly realized that the city is rapidly evolving, with new shopping centers, apartments, restaurants, and office buildings popping up every week. Because of this, I always wonder how much of a demand there really is for new shopping centers and where the best place to open a new shopping center would be if a developer wanted to open a new center in the Charlotte, NC, area. This project will explore the clustering of current shopping centers in Mecklenburg County (Charlotte, NC) to identify possible areas where new shopping centers could be supported by new and existing customers. \n",
    "\n",
    "##### Data\n",
    "\n",
    "I will be utilizing the Existing Shopping Centers dataset from the Charlotte Open Data Portal. This dataset is free to download and “was generated to publish a geospatial inventory of Shopping Centers in Mecklenburg County, NC.” The dataset provides information on each existing shopping center’s Address ID, Center Classification, Center Name, Global ID, Object ID, and Parcel ID. The most important aspect of the dataset will be the Address ID, which will allow me to obtain longitude and latitude data via Foursquare and will assist in the generation of maps. Additionally, center classification will allow me to examine what types of shopping centers are most popular and prevalent in the area, which will help answer my question of where a new shopping center should be located, in addition to allowing me to draw conclusions regarding the type of shopping center that should be built. \n"
   ]
  }
 ],
 "metadata": {
  "kernelspec": {
   "display_name": "Python 3",
   "language": "python",
   "name": "python3"
  },
  "language_info": {
   "codemirror_mode": {
    "name": "ipython",
    "version": 3
   },
   "file_extension": ".py",
   "mimetype": "text/x-python",
   "name": "python",
   "nbconvert_exporter": "python",
   "pygments_lexer": "ipython3",
   "version": "3.7.6"
  }
 },
 "nbformat": 4,
 "nbformat_minor": 4
}
